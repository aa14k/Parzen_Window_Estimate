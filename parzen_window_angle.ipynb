{
 "cells": [
  {
   "cell_type": "code",
   "execution_count": null,
   "metadata": {},
   "outputs": [],
   "source": [
    "import numpy as np\n",
    "import math as m\n",
    "import matplotlib.pyplot as plt\n",
    "import time"
   ]
  },
  {
   "cell_type": "code",
   "execution_count": null,
   "metadata": {},
   "outputs": [],
   "source": [
    "def gauss(sample_phi,phi,sample_psi,psi,sigma):\n",
    "    return np.exp((-1.0*((sample_phi-phi)**2 + (sample_psi-psi)**2))/(2.0*(sigma**2)))\n",
    "\n",
    "print shiftPhi1\n",
    "print 63.99121857 - 360.0"
   ]
  },
  {
   "cell_type": "code",
   "execution_count": null,
   "metadata": {},
   "outputs": [],
   "source": [
    "bin_sizeX = 72\n",
    "bin_sizeY = 72\n",
    "cell_x = np.linspace(-180, 180, bin_sizeX+1)\n",
    "cell_y = np.linspace(-180, 180, bin_sizeY+1)\n",
    "\n",
    "[X, Y] = np.meshgrid(cell_x, cell_y)\n",
    "\n",
    "cell = np.zeros_like(X)\n",
    "sigma = 15.0\n",
    "\n",
    "angle_listSize = 100\n",
    "sample_phi = np.random.uniform(low = -180.0,high = 180.0, size = angle_listSize )\n",
    "sample_psi = np.random.uniform(low = -180.0,high = 180.0, size = angle_listSize )\n",
    "\n",
    "shiftPhi1 = sample_phi - 360.0\n",
    "shiftPhi2 = sample_phi\n",
    "shiftPhi3 = sample_phi + 360.0\n",
    "shiftPhi4 = sample_phi - 360.0\n",
    "shiftPhi5 = sample_phi\n",
    "shiftPhi6 = sample_phi + 360.0\n",
    "shiftPhi7 = sample_phi - 360.0\n",
    "shiftPhi8 = sample_phi\n",
    "shiftPhi9 = sample_phi + 360.0\n",
    "\n",
    "shiftPsi1 = sample_psi + 360.0\n",
    "shiftPsi2 = sample_psi + 360.0\n",
    "shiftPsi3 = sample_psi + 360.0\n",
    "shiftPsi4 = sample_psi \n",
    "shiftPsi5 = sample_psi\n",
    "shiftPsi6 = sample_psi \n",
    "shiftPsi7 = sample_psi - 360.0\n",
    "shiftPsi8 = sample_psi - 360.0\n",
    "shiftPsi9 = sample_psi - 360.0\n",
    "\n",
    "for i in range(bin_sizeX):\n",
    "    print i\n",
    "    phi = i*360.0/bin_sizeX - 180.0\n",
    "    for j in range(bin_sizeY):\n",
    "        psi = j*360.0/bin_sizeY - 180.0\n",
    "        for k in range(angle_listSize):\n",
    "            distance1 = gauss(shiftPhi1[k],phi,shiftPsi1[k],psi,sigma)\n",
    "            distance2 = gauss(shiftPhi2[k],phi,shiftPsi2[k],psi,sigma)\n",
    "            distance3 = gauss(shiftPhi3[k],phi,shiftPsi3[k],psi,sigma)\n",
    "            distance4 = gauss(shiftPhi4[k],phi,shiftPsi4[k],psi,sigma)\n",
    "            distance5 = gauss(shiftPhi5[k],phi,shiftPsi5[k],psi,sigma)\n",
    "            distance6 = gauss(shiftPhi6[k],phi,shiftPsi6[k],psi,sigma)\n",
    "            distance7 = gauss(shiftPhi7[k],phi,shiftPsi7[k],psi,sigma)\n",
    "            distance8 = gauss(shiftPhi8[k],phi,shiftPsi8[k],psi,sigma)\n",
    "            distance9 = gauss(shiftPhi9[k],phi,shiftPsi9[k],psi,sigma)\n",
    "            \n",
    "            cell[i,j] = cell[i,j] + max(distance1,distance2,distance3,distance4,distance5,distance6,distance7,distance8,distance9)\n"
   ]
  },
  {
   "cell_type": "code",
   "execution_count": null,
   "metadata": {},
   "outputs": [],
   "source": [
    "plt.contourf(X, Y, cell)\n",
    "plt.show()"
   ]
  }
 ],
 "metadata": {
  "kernelspec": {
   "display_name": "Python 2",
   "language": "python",
   "name": "python2"
  },
  "language_info": {
   "codemirror_mode": {
    "name": "ipython",
    "version": 2
   },
   "file_extension": ".py",
   "mimetype": "text/x-python",
   "name": "python",
   "nbconvert_exporter": "python",
   "pygments_lexer": "ipython2",
   "version": "2.7.13"
  }
 },
 "nbformat": 4,
 "nbformat_minor": 2
}
