{
 "cells": [
  {
   "cell_type": "code",
   "execution_count": 55,
   "metadata": {},
   "outputs": [],
   "source": [
    "import numpy as np\n",
    "import math as m\n",
    "import matplotlib.pyplot as plt"
   ]
  },
  {
   "cell_type": "code",
   "execution_count": 90,
   "metadata": {},
   "outputs": [
    {
     "name": "stdout",
     "output_type": "stream",
     "text": [
      "0.0\n"
     ]
    }
   ],
   "source": [
    "def gauss(sample_phi,phi,sample_psi,psi,sigma):\n",
    "    return np.exp((-1.0*((sample_phi-phi)**2 + (sample_psi-psi)**2))/(2.0*(sigma**2)))\n",
    "print gauss(58.7+shiftPHI[l],phi,sample_psi[k]+shiftPSI[l],psi,sigma)"
   ]
  },
  {
   "cell_type": "code",
   "execution_count": null,
   "metadata": {},
   "outputs": [
    {
     "name": "stdout",
     "output_type": "stream",
     "text": [
      "0\n",
      "1\n",
      "2\n",
      "3\n",
      "4\n",
      "5\n",
      "6\n",
      "7\n",
      "8\n",
      "9\n",
      "10\n",
      "11\n",
      "12\n",
      "13\n",
      "14\n",
      "15\n",
      "16\n",
      "17\n",
      "18\n",
      "19\n",
      "20\n",
      "21\n",
      "22\n",
      "23\n",
      "24\n",
      "25\n",
      "26\n",
      "27\n",
      "28\n",
      "29\n",
      "30\n",
      "31\n",
      "32\n",
      "33\n",
      "34\n",
      "35\n",
      "36\n",
      "37\n",
      "38\n",
      "39\n",
      "40\n",
      "41\n",
      "42\n",
      "43\n",
      "44\n",
      "45\n",
      "46\n",
      "47\n",
      "48\n",
      "49\n",
      "50\n",
      "51\n",
      "52\n",
      "53\n",
      "54\n",
      "55\n",
      "56\n",
      "57\n"
     ]
    }
   ],
   "source": [
    "bin_sizeX = 72\n",
    "bin_sizeY = 72\n",
    "cell_x = np.linspace(-180, 180, bin_sizeX+1)\n",
    "cell_y = np.linspace(-180, 180, bin_sizeY+1)\n",
    "\n",
    "[X, Y] = np.meshgrid(cell_x, cell_y)\n",
    "\n",
    "cell = np.zeros_like(X)\n",
    "sigma = 1.5\n",
    "shiftPHI = np.array([-360.0,0.0,360.0,-360.0,0.0,360.0,-360.0,0.0,360.0])\n",
    "shiftPSI = np.array([360.0,360.0,360.0,0.0,0.0,0.0,-360.0,-360.0,-360.0,])\n",
    "angle_listSize = 100\n",
    "sample_phi = np.random.uniform(low = -180.0,high = 180.0, size = angle_listSize )\n",
    "sample_psi = np.random.uniform(low = -180.0,high = 180.0, size = angle_listSize )\n",
    "for i in range(bin_sizeX):\n",
    "    print i\n",
    "    phi = i*360.0/bin_sizeX - 180.0\n",
    "    for j in range(bin_sizeY):\n",
    "        psi = j*360.0/bin_sizeY - 180.0\n",
    "        for k in range(angle_listSize):\n",
    "            distance = np.zeros(9)\n",
    "            for l in range(9):\n",
    "                distance[l] = gauss(sample_phi[k]+shiftPHI[l],phi,sample_psi[k]+shiftPSI[l],psi,sigma)\n",
    "            cell[i,j] = cell[i,j] + max(distance)\n"
   ]
  },
  {
   "cell_type": "code",
   "execution_count": 88,
   "metadata": {},
   "outputs": [
    {
     "name": "stdout",
     "output_type": "stream",
     "text": [
      "0.0\n"
     ]
    }
   ],
   "source": [
    "print gauss(sample_phi[k]+shiftPHI[l],phi,sample_psi[k]+shiftPSI[l],psi,sigma)"
   ]
  },
  {
   "cell_type": "code",
   "execution_count": 79,
   "metadata": {},
   "outputs": [
    {
     "data": {
      "image/png": "[encoded data removed]",
      "text/plain": [
       "<Figure size 432x288 with 1 Axes>"
      ]
     },
     "metadata": {},
     "output_type": "display_data"
    }
   ],
   "source": [
    "plt.contourf(X, Y, cell)\n",
    "plt.show()"
   ]
  },
  {
   "cell_type": "code",
   "execution_count": null,
   "metadata": {},
   "outputs": [],
   "source": []
  }
 ],
 "metadata": {
  "kernelspec": {
   "display_name": "Python 2",
   "language": "python",
   "name": "python2"
  },
  "language_info": {
   "codemirror_mode": {
    "name": "ipython",
    "version": 2
   },
   "file_extension": ".py",
   "mimetype": "text/x-python",
   "name": "python",
   "nbconvert_exporter": "python",
   "pygments_lexer": "ipython2",
   "version": "2.7.13"
  }
 },
 "nbformat": 4,
 "nbformat_minor": 2
}
