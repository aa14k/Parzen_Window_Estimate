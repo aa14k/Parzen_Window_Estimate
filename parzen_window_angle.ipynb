{
 "cells": [
  {
   "cell_type": "code",
   "execution_count": 28,
   "metadata": {},
   "outputs": [],
   "source": [
    "import numpy as np\n",
    "import math as m\n",
    "import matplotlib.pyplot as plt\n",
    "import time"
   ]
  },
  {
   "cell_type": "code",
   "execution_count": 11,
   "metadata": {},
   "outputs": [
    {
     "name": "stdout",
     "output_type": "stream",
     "text": [
      "[-296.00878143 -368.51392415 -190.08702045 -354.8653717  -378.39107714\n",
      " -466.80867741 -354.28067574 -484.12879437 -186.15595173 -291.12995017\n",
      " -380.971745   -373.09547114 -364.28770794 -246.68283135 -257.70359827\n",
      " -193.72666372 -450.33778923 -445.78965605 -450.34641339 -305.15082101\n",
      " -375.94579791 -375.67867886 -287.07964648 -423.73303551 -340.66601149\n",
      " -429.23830887 -356.6341453  -528.54328918 -234.0825747  -223.33003774\n",
      " -414.646405   -202.29550599 -509.05525237 -330.52222321 -496.07382517\n",
      " -250.81320446 -523.78766442 -331.38518566 -262.51705069 -332.96265316\n",
      " -321.11900524 -222.76895392 -404.85691785 -394.37284714 -404.82958164\n",
      " -419.29995778 -192.66353308 -517.22772024 -395.01099428 -274.13441728\n",
      " -497.62761085 -306.60804068 -327.11275072 -492.6897487  -466.64455967\n",
      " -242.6060679  -470.24381636 -488.71431279 -450.05018203 -339.775657\n",
      " -418.1171591  -510.5973186  -357.0275014  -181.90610611 -247.15380708\n",
      " -396.27018647 -276.23573321 -536.18414641 -457.91237488 -469.5374277\n",
      " -506.8576961  -419.9665633  -460.25792642 -317.40553181 -481.40287909\n",
      " -385.04863772 -363.50410819 -346.74742127 -312.07961221 -268.24311899\n",
      " -354.64532429 -462.58016999 -445.02287439 -386.40608386 -239.00232396\n",
      " -444.26785549 -407.52866527 -235.96219816 -181.23398176 -182.52008739\n",
      " -188.08560475 -296.91437313 -185.27757928 -330.12213836 -324.78953699\n",
      " -440.33019265 -345.03044051 -526.23725701 -305.27350439 -193.79794534]\n",
      "-296.00878143\n"
     ]
    }
   ],
   "source": [
    "def gauss(sample_phi,phi,sample_psi,psi,sigma):\n",
    "    return np.exp((-1.0*((sample_phi-phi)**2 + (sample_psi-psi)**2))/(2.0*(sigma**2)))\n",
    "\n",
    "print shiftPhi1\n",
    "print 63.99121857 - 360.0"
   ]
  },
  {
   "cell_type": "code",
   "execution_count": null,
   "metadata": {},
   "outputs": [
    {
     "name": "stdout",
     "output_type": "stream",
     "text": [
      "0\n",
      "1\n",
      "2\n",
      "3\n",
      "4\n",
      "5\n",
      "6\n",
      "7\n",
      "8\n",
      "9\n",
      "10\n",
      "11\n",
      "12\n",
      "13\n",
      "14\n",
      "15\n",
      "16\n",
      "17\n",
      "18\n",
      "19\n",
      "20\n",
      "21\n",
      "22\n",
      "23\n",
      "24\n",
      "25\n",
      "26\n",
      "27\n",
      "28\n",
      "29\n",
      "30\n",
      "31\n",
      "32\n",
      "33\n",
      "34\n",
      "35\n",
      "36\n",
      "37\n",
      "38\n",
      "39\n",
      "40\n",
      "41\n",
      "42\n",
      "43\n",
      "44\n",
      "45\n",
      "46\n",
      "47\n",
      "48\n",
      "49\n",
      "50\n",
      "51\n",
      "52\n",
      "53\n",
      "54\n",
      "55\n",
      "56\n",
      "57\n",
      "58\n",
      "59\n",
      "60\n",
      "61\n",
      "62\n",
      "63\n",
      "64\n",
      "65\n",
      "66\n",
      "67\n",
      "68\n",
      "69\n"
     ]
    }
   ],
   "source": [
    "bin_sizeX = 72\n",
    "bin_sizeY = 72\n",
    "cell_x = np.linspace(-180, 180, bin_sizeX+1)\n",
    "cell_y = np.linspace(-180, 180, bin_sizeY+1)\n",
    "\n",
    "[X, Y] = np.meshgrid(cell_x, cell_y)\n",
    "\n",
    "cell = np.zeros_like(X)\n",
    "sigma = 15.0\n",
    "shiftPHI = np.array([-360.0,0.0,360.0,-360.0,0.0,360.0,-360.0,0.0,360.0])\n",
    "shiftPSI = np.array([360.0,360.0,360.0,0.0,0.0,0.0,-360.0,-360.0,-360.0,])\n",
    "\n",
    "angle_listSize = 1000\n",
    "sample_phi = np.random.uniform(low = -180.0,high = 180.0, size = angle_listSize )\n",
    "sample_psi = np.random.uniform(low = -180.0,high = 180.0, size = angle_listSize )\n",
    "\n",
    "shiftPhi1 = sample_phi - 360.0\n",
    "shiftPhi2 = sample_phi\n",
    "shiftPhi3 = sample_phi + 360.0\n",
    "shiftPhi4 = sample_phi - 360.0\n",
    "shiftPhi5 = sample_phi\n",
    "shiftPhi6 = sample_phi + 360.0\n",
    "shiftPhi7 = sample_phi - 360.0\n",
    "shiftPhi8 = sample_phi\n",
    "shiftPhi9 = sample_phi + 360.0\n",
    "\n",
    "shiftPsi1 = sample_psi + 360.0\n",
    "shiftPsi2 = sample_psi + 360.0\n",
    "shiftPsi3 = sample_psi + 360.0\n",
    "shiftPsi4 = sample_psi \n",
    "shiftPsi5 = sample_psi\n",
    "shiftPsi6 = sample_psi \n",
    "shiftPsi7 = sample_psi - 360.0\n",
    "shiftPsi8 = sample_psi - 360.0\n",
    "shiftPsi9 = sample_psi - 360.0\n",
    "\n",
    "\n",
    "tic = time.clock()\n",
    "for i in range(bin_sizeX):\n",
    "    print i\n",
    "    phi = i*360.0/bin_sizeX - 180.0\n",
    "    for j in range(bin_sizeY):\n",
    "        psi = j*360.0/bin_sizeY - 180.0\n",
    "        for k in range(angle_listSize):\n",
    "            distance1 = gauss(shiftPhi1[k],phi,shiftPsi1[k],psi,sigma)\n",
    "            distance2 = gauss(shiftPhi2[k],phi,shiftPsi2[k],psi,sigma)\n",
    "            distance3 = gauss(shiftPhi3[k],phi,shiftPsi3[k],psi,sigma)\n",
    "            distance4 = gauss(shiftPhi4[k],phi,shiftPsi4[k],psi,sigma)\n",
    "            distance5 = gauss(shiftPhi5[k],phi,shiftPsi5[k],psi,sigma)\n",
    "            distance6 = gauss(shiftPhi6[k],phi,shiftPsi6[k],psi,sigma)\n",
    "            distance7 = gauss(shiftPhi7[k],phi,shiftPsi7[k],psi,sigma)\n",
    "            distance8 = gauss(shiftPhi8[k],phi,shiftPsi8[k],psi,sigma)\n",
    "            distance9 = gauss(shiftPhi9[k],phi,shiftPsi9[k],psi,sigma)\n",
    "            \n",
    "            cell[i,j] = cell[i,j] + max(distance1,distance2,distance3,distance4,distance5,distance6,distance7,distance8,distance9)\n",
    "toc = time.clock()\n",
    "print toc - tic"
   ]
  },
  {
   "cell_type": "code",
   "execution_count": null,
   "metadata": {},
   "outputs": [],
   "source": []
  },
  {
   "cell_type": "code",
   "execution_count": 26,
   "metadata": {},
   "outputs": [
    {
     "data": {
      "image/png": "[encoded data removed]",
      "text/plain": [
       "<Figure size 432x288 with 1 Axes>"
      ]
     },
     "metadata": {
      "needs_background": "light"
     },
     "output_type": "display_data"
    },
    {
     "data": {
      "text/plain": [
       "<matplotlib.collections.PathCollection at 0x7feb84a32210>"
      ]
     },
     "execution_count": 26,
     "metadata": {},
     "output_type": "execute_result"
    },
    {
     "data": {
      "image/png": "[encoded data removed]",
      "text/plain": [
       "<Figure size 432x288 with 1 Axes>"
      ]
     },
     "metadata": {
      "needs_background": "light"
     },
     "output_type": "display_data"
    }
   ],
   "source": [
    "plt.contourf(X, Y, cell)\n",
    "plt.show()\n",
    "plt.scatter(sample_phi,sample_psi)"
   ]
  },
  {
   "cell_type": "code",
   "execution_count": null,
   "metadata": {},
   "outputs": [],
   "source": []
  }
 ],
 "metadata": {
  "kernelspec": {
   "display_name": "Python 2",
   "language": "python",
   "name": "python2"
  },
  "language_info": {
   "codemirror_mode": {
    "name": "ipython",
    "version": 2
   },
   "file_extension": ".py",
   "mimetype": "text/x-python",
   "name": "python",
   "nbconvert_exporter": "python",
   "pygments_lexer": "ipython2",
   "version": "2.7.13"
  }
 },
 "nbformat": 4,
 "nbformat_minor": 2
}
